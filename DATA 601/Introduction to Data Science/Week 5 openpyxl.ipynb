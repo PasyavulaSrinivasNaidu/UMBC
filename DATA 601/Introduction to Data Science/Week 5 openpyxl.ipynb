{
 "cells": [
  {
   "cell_type": "markdown",
   "metadata": {},
   "source": [
    "# Assignment Content\n",
    "\n",
    "1.  You get an Excel spreadsheet that has two worksheets, \"patient info\" and \"records\"​\n",
    "    \n",
    "    -   Each worksheet has data and visualizations and formulas\n",
    "    -   Each row in each worksheet represents information associated with a single person.. ​\n",
    "    -   Worksheet \"patient info\" has a \"patient id\" column; ​\n",
    "    -   Worksheet \"records\" has a \"p_id\" column​\n",
    "    -   The \"patient id\" values in \"patient info\" tab are the same variable as \"p_id\" in \"records\". Some people have information on both sheets, while other people have information only on one sheet.\n",
    "    \n",
    "    Use openpyxl to copy information about patients from \"records\" to \"patient info\"​. Submit a notebook that reads the Excel spreadsheet and produces a separate Excel file with the following modifications:​\n",
    "    \n",
    "    -   For each patient identified by \"p_id\" listed in the \"records\" sheet that don't exist in \"patient info,\" create a new row in \"patient info\". The row from \"records\" should be copied to the row in \"patient info.\"\n",
    "    -   For each patient listed in the \"records\" sheet where \"p_id\" appears \"patient info\" under \"patient id,\" copy the data in the row from records to \"patient info\" sheet\n",
    "    -   Make no changes to the visualizations that exist in each worksheet​\n",
    "    -   Make no changes to the data in the \"records\"​ sheet\n",
    "    -   Write your changes to a new .xlsx file (don't overwrite the original)​ ​\n",
    "    \n",
    "    Observations:​\n",
    "    \n",
    "    -   \"patient info\" worksheet will have new columns (because those new columns exist in the \"records\" worksheet)​\n",
    "    -   \"patient info\" worksheet will have new rows (one new row per patient)​\n",
    "    -   There will be empty cells in \"patient info\" worksheet​\n",
    "    -   Use a programmatic (rather than manual) approach to identify which patients appear in both worksheets​\n",
    "    -   Some cells in both worksheets contain formulas. Copy only values from \"records\" to \"patient info\"​"
   ]
  },
  {
   "cell_type": "markdown",
   "metadata": {},
   "source": [
    "### Python Version"
   ]
  },
  {
   "cell_type": "code",
   "execution_count": 1,
   "metadata": {},
   "outputs": [
    {
     "name": "stdout",
     "output_type": "stream",
     "text": [
      "Python 3.8.5\n"
     ]
    }
   ],
   "source": [
    "!python --version"
   ]
  },
  {
   "cell_type": "markdown",
   "metadata": {},
   "source": [
    "### Importing of Packages"
   ]
  },
  {
   "cell_type": "code",
   "execution_count": 2,
   "metadata": {},
   "outputs": [],
   "source": [
    "import openpyxl as opxl\n",
    "from openpyxl import load_workbook\n",
    "from openpyxl.drawing.image import Image"
   ]
  },
  {
   "cell_type": "markdown",
   "metadata": {},
   "source": [
    "### The Path of the patient info and records data excel file"
   ]
  },
  {
   "cell_type": "code",
   "execution_count": 3,
   "metadata": {},
   "outputs": [],
   "source": [
    "original_file = 'week_05_homework_XLSX_openpyxl.xlsx'"
   ]
  },
  {
   "cell_type": "markdown",
   "metadata": {},
   "source": [
    "### Sheet names of the workbook"
   ]
  },
  {
   "cell_type": "code",
   "execution_count": 4,
   "metadata": {},
   "outputs": [
    {
     "name": "stdout",
     "output_type": "stream",
     "text": [
      "['patient info', 'records']\n"
     ]
    }
   ],
   "source": [
    "orig_workbook = load_workbook(original_file)\n",
    "print(orig_workbook.sheetnames)"
   ]
  },
  {
   "cell_type": "markdown",
   "metadata": {},
   "source": [
    "### Copying information about patients from \"records\" to \"patient info\""
   ]
  },
  {
   "cell_type": "markdown",
   "metadata": {},
   "source": [
    "### Notebook that reads the Excel spreadsheet and produces a separate Excel file with the modifications"
   ]
  },
  {
   "cell_type": "code",
   "execution_count": 5,
   "metadata": {},
   "outputs": [],
   "source": [
    "# Loading worksheets into a seperate individual workbook\n",
    "workbook_1 = orig_workbook['patient info']\n",
    "workbook_2 = orig_workbook['records']\n",
    "\n",
    "#Loading an Empty File to store the processed data\n",
    "updated_file = \"data_processed-file.xlsx\"\n",
    "workbook_3 = opxl.load_workbook(updated_file)\n",
    "ws2 =  workbook_3.active\n",
    "i = 1\n",
    "list_1=[]\n",
    "workbook_2.cell(row=1,column=1).value = 'patient id'\n",
    "\n",
    "#Appending list_1 with patient ID of main sheet\n",
    "while i <= workbook_1.max_row:\n",
    "    list_1.append(workbook_1.cell(row=i,column=1).value)\n",
    "    i=i+1\n",
    "list_2=[]\n",
    "\n",
    "#Appending list_2 with patient ID of another sheet\n",
    "j=1\n",
    "while j <= workbook_2.max_row:\n",
    "    list_2.append(workbook_2.cell(row=j,column=1).value)\n",
    "    j=j+1\n",
    "i=1\n",
    "r = 0\n",
    "for k in range(1,workbook_1.max_row + 1):\n",
    "    r = r + 1\n",
    "    c = 1\n",
    "\n",
    "#Adding data of patient info alone for the ID's present only in main\n",
    "    if workbook_1.cell(row=k,column=1).value  not in list_2:\n",
    "        for m in range(1,workbook_1.max_column + 1):\n",
    "            ws2.cell(row=r,column=c).value=workbook_1.cell(row=k,column=m).value  \n",
    "            c = c + 1\n",
    "\n",
    "#Adding data of patient info and record sheet if patient ID present in both patient_info and another sheet\n",
    "    elif workbook_1.cell(row=k,column=1).value in list_2:\n",
    "        c = 1\n",
    "        for m in range(1,workbook_1.max_column + 1):\n",
    "            ws2.cell(row=r,column=c).value=workbook_1.cell(row=k,column=m).value  \n",
    "            c = c + 1\n",
    "        for l in range(1,workbook_2.max_row + 1):\n",
    "            if workbook_1.cell(row=k,column=1).value == workbook_2.cell(row=l,column=1).value:\n",
    "                for n in range(1,workbook_2.max_column + 1):\n",
    "                    ws2.cell(row=r,column=c).value=workbook_2.cell(row=l,column=n).value \n",
    "                    c = c + 1\n",
    "\n",
    "#Adding new rows for the patient info sheet, if the patient ID of record sheet not present in the main sheet\n",
    "for o in range(1,workbook_2.max_row + 1):\n",
    "    if workbook_2.cell(row=o,column=1).value  not in list_1:\n",
    "        r = r + 1\n",
    "        c = 7\n",
    "        for p in range(1,workbook_2.max_column + 1):\n",
    "            ws2.cell(row=r,column=c).value=workbook_2.cell(row=o,column=p).value \n",
    "            c = c + 1  \n",
    "\n",
    "#Adding chart to the excel file            \n",
    "img = Image(\"visualisation_img.png\")\n",
    "ws2.add_image(img, 'M8')\n",
    "workbook_3.save(updated_file)"
   ]
  },
  {
   "cell_type": "code",
   "execution_count": null,
   "metadata": {},
   "outputs": [],
   "source": []
  }
 ],
 "metadata": {
  "kernelspec": {
   "display_name": "Python 3",
   "language": "python",
   "name": "python3"
  },
  "language_info": {
   "codemirror_mode": {
    "name": "ipython",
    "version": 3
   },
   "file_extension": ".py",
   "mimetype": "text/x-python",
   "name": "python",
   "nbconvert_exporter": "python",
   "pygments_lexer": "ipython3",
   "version": "3.8.5"
  }
 },
 "nbformat": 4,
 "nbformat_minor": 4
}
