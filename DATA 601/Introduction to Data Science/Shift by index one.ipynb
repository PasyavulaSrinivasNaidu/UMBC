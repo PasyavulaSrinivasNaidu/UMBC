{
 "cells": [
  {
   "cell_type": "code",
   "execution_count": 1,
   "metadata": {},
   "outputs": [
    {
     "name": "stdout",
     "output_type": "stream",
     "text": [
      "Python 3.8.5\n"
     ]
    }
   ],
   "source": [
    "!python --version"
   ]
  },
  {
   "cell_type": "markdown",
   "metadata": {},
   "source": [
    "# Function that takes a list as the argument and returns a list with each element shifted left by one index"
   ]
  },
  {
   "cell_type": "code",
   "execution_count": 51,
   "metadata": {},
   "outputs": [],
   "source": [
    "def shiftcells(lst):\n",
    "    if len(lst) == 0:\n",
    "        print(\"The list is empty\")\n",
    "        raise customError(\"Error\")\n",
    "    else:\n",
    "        temp = lst[0] \n",
    "        for i in range (len(lst)-1):\n",
    "            lst[i] = lst[i+1]\n",
    "            lst[i+1] = temp\n",
    "    return lst"
   ]
  },
  {
   "cell_type": "code",
   "execution_count": 55,
   "metadata": {},
   "outputs": [],
   "source": [
    "def lists():\n",
    "    n = input(\"How many values u wanna enter: \")\n",
    "    lst[n] = input(\"Enter the list: \")"
   ]
  },
  {
   "cell_type": "code",
   "execution_count": 59,
   "metadata": {},
   "outputs": [
    {
     "name": "stdout",
     "output_type": "stream",
     "text": [
      "How many values u wanna enter: 1\n",
      "Enter the list: 1\n",
      "Provide valid List\n"
     ]
    }
   ],
   "source": [
    "try:\n",
    "    lists()\n",
    "    shiftcells(lst[n])\n",
    "except:\n",
    "    print(\"Provide valid List\")"
   ]
  },
  {
   "cell_type": "code",
   "execution_count": null,
   "metadata": {},
   "outputs": [],
   "source": []
  },
  {
   "cell_type": "code",
   "execution_count": null,
   "metadata": {},
   "outputs": [],
   "source": []
  }
 ],
 "metadata": {
  "kernelspec": {
   "display_name": "Python 3",
   "language": "python",
   "name": "python3"
  },
  "language_info": {
   "codemirror_mode": {
    "name": "ipython",
    "version": 3
   },
   "file_extension": ".py",
   "mimetype": "text/x-python",
   "name": "python",
   "nbconvert_exporter": "python",
   "pygments_lexer": "ipython3",
   "version": "3.8.5"
  }
 },
 "nbformat": 4,
 "nbformat_minor": 4
}
