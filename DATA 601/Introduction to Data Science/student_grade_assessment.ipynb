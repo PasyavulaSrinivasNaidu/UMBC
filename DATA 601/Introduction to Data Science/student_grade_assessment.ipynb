{
 "cells": [
  {
   "cell_type": "code",
   "execution_count": 1,
   "metadata": {},
   "outputs": [
    {
     "name": "stdout",
     "output_type": "stream",
     "text": [
      "Python 3.9.12\n"
     ]
    }
   ],
   "source": [
    "!python --version"
   ]
  },
  {
   "cell_type": "code",
   "execution_count": 2,
   "metadata": {},
   "outputs": [],
   "source": [
    "import random\n",
    "\n",
    "assignments = []\n",
    "sam_assignments = []\n",
    "projects = []\n",
    "attendance = ['p','a']\n",
    "atd = []\n",
    "grade = ''"
   ]
  },
  {
   "cell_type": "markdown",
   "metadata": {},
   "source": [
    "### Generating 30 random assignment marks and selecting total 10 assignments."
   ]
  },
  {
   "cell_type": "code",
   "execution_count": 3,
   "metadata": {},
   "outputs": [
    {
     "name": "stdout",
     "output_type": "stream",
     "text": [
      "Marks of 30 Assignments:\n",
      " [88, 32, 6, 62, 9, 71, 98, 8, 28, 3, 70, 58, 77, 72, 24, 13, 67, 42, 72, 75, 89, 45, 89, 93, 12, 68, 20, 93, 28, 28]\n",
      "Marks of random 10 Assignments:\n",
      " [72, 89, 58, 77, 88, 98, 20, 98, 58, 75]\n"
     ]
    }
   ],
   "source": [
    "for i in range(0,30):\n",
    "    x = random.randint(0,100)\n",
    "    assignments.append(x)\n",
    "print(\"Marks of 30 Assignments:\\n\",assignments)\n",
    "for j in range(0,10):\n",
    "    y = random.choice(assignments)\n",
    "    sam_assignments.append(y)\n",
    "print(\"Marks of random 10 Assignments:\\n\", sam_assignments)"
   ]
  },
  {
   "cell_type": "markdown",
   "metadata": {},
   "source": [
    "### Generating marks for 3 projects."
   ]
  },
  {
   "cell_type": "code",
   "execution_count": 4,
   "metadata": {},
   "outputs": [
    {
     "name": "stdout",
     "output_type": "stream",
     "text": [
      "Marks of 3 projects:\n",
      " [1, 66, 61]\n"
     ]
    }
   ],
   "source": [
    "for i in range(0,3):\n",
    "    y = random.randint(0,100)\n",
    "    projects.append(y)\n",
    "print(\"Marks of 3 projects:\\n\",projects)"
   ]
  },
  {
   "cell_type": "markdown",
   "metadata": {},
   "source": [
    "### Calculating attendance for 15 classes."
   ]
  },
  {
   "cell_type": "code",
   "execution_count": 5,
   "metadata": {},
   "outputs": [
    {
     "name": "stdout",
     "output_type": "stream",
     "text": [
      "Attendance for 15 classes:\n",
      " ['a', 'p', 'a', 'p', 'p', 'a', 'a', 'p', 'a', 'p', 'a', 'a', 'a', 'p', 'p']\n"
     ]
    }
   ],
   "source": [
    "for i in range(0,15):\n",
    "    a = random.randint(0,1)\n",
    "    if a==0:\n",
    "        b = attendance[0]\n",
    "        atd.append(b)\n",
    "    else:\n",
    "        c = attendance[1]\n",
    "        atd.append(c)\n",
    "print(\"Attendance for 15 classes:\\n\",atd)"
   ]
  },
  {
   "cell_type": "markdown",
   "metadata": {},
   "source": [
    "### Calculating assignment percentage based on its weightage."
   ]
  },
  {
   "cell_type": "code",
   "execution_count": 6,
   "metadata": {},
   "outputs": [
    {
     "name": "stdout",
     "output_type": "stream",
     "text": [
      "Total percentage obtained for Assignments: 21.99 %\n"
     ]
    }
   ],
   "source": [
    "assign_sum = 0\n",
    "for i in range(0,10):\n",
    "    assign_sum = assign_sum + sam_assignments[i]\n",
    "assign_total = (assign_sum/1000)*(30)\n",
    "print(\"Total percentage obtained for Assignments:\",round(assign_total,2),\"%\")"
   ]
  },
  {
   "cell_type": "markdown",
   "metadata": {},
   "source": [
    "### Calculating project marks percentage based on its weightage."
   ]
  },
  {
   "cell_type": "code",
   "execution_count": 7,
   "metadata": {},
   "outputs": [
    {
     "name": "stdout",
     "output_type": "stream",
     "text": [
      "Percentage of each and every individual prioject for an overall total of 20% each:\n",
      " [0.2, 13.200000000000001, 12.2]\n",
      "Percentage of overall project score: 25.6 %\n"
     ]
    }
   ],
   "source": [
    "pro = []\n",
    "for i in range(0,3):\n",
    "    p = (projects[i]/100)*20\n",
    "    pro.append(p)\n",
    "print(\"Percentage of each and every individual prioject for an overall total of 20% each:\\n\",pro)\n",
    "project_sum = 0\n",
    "for i in range(0,3):\n",
    "    project_sum = project_sum + pro[i]\n",
    "print(\"Percentage of overall project score:\",round(project_sum,2),\"%\")"
   ]
  },
  {
   "cell_type": "markdown",
   "metadata": {},
   "source": [
    "### Calculating attendance percentage based on its weightage."
   ]
  },
  {
   "cell_type": "code",
   "execution_count": 8,
   "metadata": {},
   "outputs": [
    {
     "name": "stdout",
     "output_type": "stream",
     "text": [
      "Attendance percentage for 15 classes: 4.67\n"
     ]
    }
   ],
   "source": [
    "present = 0\n",
    "for i in range(0,15):\n",
    "    if atd[i] == 'p':\n",
    "        present = present + 1\n",
    "total_atd = (present/15)*10\n",
    "print(\"Attendance percentage for 15 classes:\",round(total_atd,2))"
   ]
  },
  {
   "cell_type": "markdown",
   "metadata": {},
   "source": [
    "### Calculating overall grade of a student by considering all the percentages."
   ]
  },
  {
   "cell_type": "code",
   "execution_count": 9,
   "metadata": {},
   "outputs": [],
   "source": [
    "student_percentage = assign_total + project_sum + total_atd\n",
    "\n",
    "if student_percentage < 60:\n",
    "    grade = 'F'\n",
    "elif student_percentage >= 60 and student_percentage <= 69.99:\n",
    "    grade = 'D'\n",
    "elif student_percentage >= 70 and student_percentage <= 73.99:\n",
    "    grade = 'C-'\n",
    "elif student_percentage >= 74 and student_percentage <= 76.99:\n",
    "    grade = 'C'\n",
    "elif student_percentage >= 77 and student_percentage <= 79.99:\n",
    "    grade = 'C+'\n",
    "elif student_percentage >= 80 and student_percentage <= 83.99:\n",
    "    grade = 'B-'\n",
    "elif student_percentage >= 84 and student_percentage <= 86.99:\n",
    "    grade = 'B'\n",
    "elif student_percentage >= 87 and student_percentage <= 89.99:\n",
    "    grade = 'B+'\n",
    "elif student_percentage >= 90 and student_percentage <= 96.99:\n",
    "    grade = 'A-'\n",
    "else:\n",
    "    grade = 'A'"
   ]
  },
  {
   "cell_type": "markdown",
   "metadata": {},
   "source": [
    "### Final Grade of the student."
   ]
  },
  {
   "cell_type": "code",
   "execution_count": 10,
   "metadata": {},
   "outputs": [
    {
     "name": "stdout",
     "output_type": "stream",
     "text": [
      "Final percentage obtained by the student: 52.26 % and the Grade that the student secured is: F\n"
     ]
    }
   ],
   "source": [
    "print(\"Final percentage obtained by the student:\",round(student_percentage,2),\"%\",\"and the Grade that the student secured is:\",grade)"
   ]
  }
 ],
 "metadata": {
  "kernelspec": {
   "display_name": "Python 3",
   "language": "python",
   "name": "python3"
  },
  "language_info": {
   "codemirror_mode": {
    "name": "ipython",
    "version": 3
   },
   "file_extension": ".py",
   "mimetype": "text/x-python",
   "name": "python",
   "nbconvert_exporter": "python",
   "pygments_lexer": "ipython3",
   "version": "3.8.5"
  }
 },
 "nbformat": 4,
 "nbformat_minor": 5
}
