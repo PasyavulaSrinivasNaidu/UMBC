{
 "cells": [
  {
   "cell_type": "markdown",
   "metadata": {},
   "source": [
    "# week 3: fake data\n",
    "\n",
    "## Assignment Content\n",
    "\n",
    "1.  Write a Python notebook that generates a file containing the following data:​ ​\n",
    "    \n",
    "    -   Email addresses​. Must have an \"@\"\n",
    "    -   Phone numbers​\n",
    "    -   Home Address​\n",
    "    -   Person's name​\n",
    "    -   Year born. Use realistic values.​\n",
    "    -   Number of kids. Use realistic values.​\n",
    "    -   Categorical variable: rent or own?​\n",
    "    -   Annual income. Optional challenge: Use a non-uniform distribution​\n",
    "    -   Number of speeding tickets in past year. Optional challenge: Use a non-uniform distribution​\n",
    "    \n",
    "    The user of your notebook should be able to specify how many entities are to be generated.​ ​\n",
    "    \n",
    "    ​Do not include the .csv output file in your submission -- the file should be generated dynamically.\n",
    "    \n",
    "    Order of columns in CSV is not relevant. ​"
   ]
  },
  {
   "cell_type": "markdown",
   "metadata": {},
   "source": [
    "## Python Version"
   ]
  },
  {
   "cell_type": "code",
   "execution_count": null,
   "metadata": {},
   "outputs": [],
   "source": [
    "!python --version"
   ]
  },
  {
   "cell_type": "markdown",
   "metadata": {},
   "source": [
    "## Installing Faker Package"
   ]
  },
  {
   "cell_type": "code",
   "execution_count": null,
   "metadata": {},
   "outputs": [],
   "source": [
    "!pip install Faker"
   ]
  },
  {
   "cell_type": "markdown",
   "metadata": {},
   "source": [
    "## Importing the required packages"
   ]
  },
  {
   "cell_type": "code",
   "execution_count": null,
   "metadata": {},
   "outputs": [],
   "source": [
    "from faker import Faker\n",
    "import random\n",
    "import csv"
   ]
  },
  {
   "cell_type": "markdown",
   "metadata": {},
   "source": [
    "## Random data generation based on the number of entities provided by the user and loading that data into the CSV file."
   ]
  },
  {
   "cell_type": "code",
   "execution_count": null,
   "metadata": {},
   "outputs": [],
   "source": [
    "faker = Faker()\n",
    "entities = int(input(\"Enter number of data Entities to be generated:\"))\n",
    "for i in range(entities):\n",
    "    def email():\n",
    "        return faker.email()\n",
    "\n",
    "    def phonenumbers():\n",
    "        return faker.phone_number()\n",
    "\n",
    "    def address():\n",
    "        return faker.address()\n",
    "\n",
    "    def name():\n",
    "        return faker.name()\n",
    "\n",
    "    def yearborn():\n",
    "        return faker.year()\n",
    "\n",
    "    def Number_of_kids():\n",
    "        return random.randrange(5)\n",
    "\n",
    "    def Categorical_Value():\n",
    "        return random.choice([\"rent\",\"own\"])\n",
    "\n",
    "    def Annual_Income():\n",
    "        return random.randrange(100000)\n",
    "\n",
    "    def Number_of_Speeding_Tickets():\n",
    "        return random.randrange(15)\n",
    "\n",
    "def data_generation():\n",
    "    return [email(), phonenumbers(), address(), name(), yearborn(), Number_of_kids(), Categorical_Value(), Annual_Income(), Number_of_Speeding_Tickets()]\n",
    "\n",
    "# writing data to the csv file\n",
    "with open('pofile_data_info.csv', 'w',newline='') as data_csvfile:\n",
    "    writer = csv.writer(data_csvfile)\n",
    "    writer.writerow(['email', 'phonenumbers', 'address', 'name','yearborn','Number_of_kids','Categorical_Value','Annual_Income','Number_of_Speeding_Tickets'])\n",
    "    for i in range(entities):\n",
    "        writer.writerow(data_generation())\n",
    "        \n",
    "# closing the csv file\n",
    "data_csvfile.close()\n",
    "\n",
    "print(\"File created\")\n",
    "    "
   ]
  },
  {
   "cell_type": "code",
   "execution_count": null,
   "metadata": {},
   "outputs": [],
   "source": []
  },
  {
   "cell_type": "code",
   "execution_count": null,
   "metadata": {},
   "outputs": [],
   "source": []
  },
  {
   "cell_type": "code",
   "execution_count": null,
   "metadata": {},
   "outputs": [],
   "source": []
  }
 ],
 "metadata": {
  "kernelspec": {
   "display_name": "Python 3",
   "language": "python",
   "name": "python3"
  },
  "language_info": {
   "codemirror_mode": {
    "name": "ipython",
    "version": 3
   },
   "file_extension": ".py",
   "mimetype": "text/x-python",
   "name": "python",
   "nbconvert_exporter": "python",
   "pygments_lexer": "ipython3",
   "version": "3.8.5"
  }
 },
 "nbformat": 4,
 "nbformat_minor": 4
}
